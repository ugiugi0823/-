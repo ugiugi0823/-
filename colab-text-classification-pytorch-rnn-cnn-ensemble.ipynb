{
  "nbformat": 4,
  "nbformat_minor": 0,
  "metadata": {
    "colab": {
      "provenance": [],
      "collapsed_sections": [
        "VWasUKW2wNcM",
        "1HIvnhNPwR83",
        "mUjyuODj2bab",
        "z9MkvSd92usU",
        "sJ2Iv1Gx_ADa"
      ],
      "machine_shape": "hm"
    },
    "kernelspec": {
      "name": "python3",
      "display_name": "Python 3"
    },
    "language_info": {
      "name": "python"
    },
    "accelerator": "GPU",
    "gpuClass": "standard"
  },
  "cells": [
    {
      "cell_type": "markdown",
      "source": [
        "# 0. 한번에 내가 입력한 문장이 긍정인지 부정인지 알아보기 (feat. 그냥 눌러주세용~~)\n",
        "- 🔥🔥🔥🔥🔥🔥🔥🔥🔥🔥🔥🔥🔥🔥🔥🔥🔥🔥🔥🔥🔥🔥🔥🔥🔥🔥🔥🔥🔥🔥🔥🔥🔥🔥🔥🔥🔥🔥\n",
        "\n",
        "- 🔥주의사항🔥 엄청 오래걸려용!!🔥🔥\n",
        "\n",
        "- 🔥🔥🔥🔥🔥🔥🔥🔥🔥🔥🔥🔥🔥🔥🔥🔥🔥🔥🔥🔥🔥🔥🔥🔥🔥🔥🔥🔥🔥🔥🔥🔥🔥🔥🔥🔥🔥🔥"
      ],
      "metadata": {
        "id": "VWasUKW2wNcM"
      }
    },
    {
      "cell_type": "markdown",
      "source": [
        "## 1. 필요한 것들을 설치 해볼게요!"
      ],
      "metadata": {
        "id": "XvhIJZ-D2H_5"
      }
    },
    {
      "cell_type": "code",
      "source": [
        "!pip install pytorch-ignite\n",
        "!pip install torchtext==0.10.1\n",
        "!curl -s https://raw.githubusercontent.com/teddylee777/machine-learning/master/99-Misc/01-Colab/mecab-colab.sh | bash"
      ],
      "metadata": {
        "id": "ZeTaJXEb2OmW"
      },
      "execution_count": null,
      "outputs": []
    },
    {
      "cell_type": "markdown",
      "source": [
        "## 2. 이제 우리는 깃헙에서 필요한 데이터들을 가져와 볼까요?"
      ],
      "metadata": {
        "id": "1HIvnhNPwR83"
      }
    },
    {
      "cell_type": "code",
      "execution_count": 1,
      "metadata": {
        "colab": {
          "base_uri": "https://localhost:8080/"
        },
        "id": "2-WUdlJ4sV8B",
        "outputId": "c8c23b25-b313-4543-b20a-63ffa1a19a32"
      },
      "outputs": [
        {
          "output_type": "stream",
          "name": "stdout",
          "text": [
            "Cloning into 'simple-ntc-master'...\n",
            "remote: Enumerating objects: 48, done.\u001b[K\n",
            "remote: Counting objects: 100% (48/48), done.\u001b[K\n",
            "remote: Compressing objects: 100% (40/40), done.\u001b[K\n",
            "remote: Total 48 (delta 13), reused 0 (delta 0), pack-reused 0\u001b[K\n",
            "Unpacking objects: 100% (48/48), done.\n"
          ]
        }
      ],
      "source": [
        "!git clone https://github.com/ugiugi0823/simple-ntc-master.git\n",
        "%cd simple-ntc-master"
      ]
    },
    {
      "cell_type": "markdown",
      "source": [
        "## 3. 똑똑한 인공지능을 만들어볼까요? 그냥 실행하면, 잘 학습된 모델이 뿅!\n",
        "  - 아참! 시간이 오래 걸려요! 커피 한잔 하고 오세요! 2잔정도? ㅎㅎ"
      ],
      "metadata": {
        "id": "mUjyuODj2bab"
      }
    },
    {
      "cell_type": "code",
      "source": [
        "!python train.py --model_fn ./models/model.pth --train_fn ./data/review.sorted.uniq.refined.tok.shuf.train.tsv --gpu_id 0 --batch_size 32 --n_epochs 2 --word_vec_size 256 --dropout .3 --rnn --hidden_size 512 --n_layers 4 --cnn --window_sizes 3 4 5 6 7 8 --n_filters 128 128 128 128 128 128"
      ],
      "metadata": {
        "colab": {
          "base_uri": "https://localhost:8080/"
        },
        "id": "WzZatcLjxWWC",
        "outputId": "a64b3fba-fa5b-43af-db7a-2b9839823ad5"
      },
      "execution_count": 16,
      "outputs": [
        {
          "output_type": "stream",
          "name": "stdout",
          "text": [
            "|train| = 118314 |valid| = 29579\n",
            "|vocab| = 12984 |classes| = 2\n",
            "RNNClassifier(\n",
            "  (emb): Embedding(12984, 256)\n",
            "  (rnn): LSTM(256, 512, num_layers=4, batch_first=True, dropout=0.3, bidirectional=True)\n",
            "  (generator): Linear(in_features=1024, out_features=2, bias=True)\n",
            "  (activation): LogSoftmax(dim=-1)\n",
            ")\n",
            "Epoch 1 - |param|=1.84e+03 |g_param|=4.22e-01 loss=2.1727e-01 accuracy=0.9203\n",
            "Validation - loss=1.9220e-01 accuracy=0.9305 best_loss=inf\n",
            "Epoch 2 - |param|=1.85e+03 |g_param|=5.19e-01 loss=2.0482e-01 accuracy=0.9285\n",
            "Validation - loss=1.5866e-01 accuracy=0.9474 best_loss=1.9220e-01\n",
            "CNNClassifier(\n",
            "  (emb): Embedding(12984, 256)\n",
            "  (feature_extractors): ModuleList(\n",
            "    (0): Sequential(\n",
            "      (0): Conv2d(1, 128, kernel_size=(3, 256), stride=(1, 1))\n",
            "      (1): ReLU()\n",
            "      (2): Dropout(p=0.3, inplace=False)\n",
            "    )\n",
            "    (1): Sequential(\n",
            "      (0): Conv2d(1, 128, kernel_size=(4, 256), stride=(1, 1))\n",
            "      (1): ReLU()\n",
            "      (2): Dropout(p=0.3, inplace=False)\n",
            "    )\n",
            "    (2): Sequential(\n",
            "      (0): Conv2d(1, 128, kernel_size=(5, 256), stride=(1, 1))\n",
            "      (1): ReLU()\n",
            "      (2): Dropout(p=0.3, inplace=False)\n",
            "    )\n",
            "    (3): Sequential(\n",
            "      (0): Conv2d(1, 128, kernel_size=(6, 256), stride=(1, 1))\n",
            "      (1): ReLU()\n",
            "      (2): Dropout(p=0.3, inplace=False)\n",
            "    )\n",
            "    (4): Sequential(\n",
            "      (0): Conv2d(1, 128, kernel_size=(7, 256), stride=(1, 1))\n",
            "      (1): ReLU()\n",
            "      (2): Dropout(p=0.3, inplace=False)\n",
            "    )\n",
            "    (5): Sequential(\n",
            "      (0): Conv2d(1, 128, kernel_size=(8, 256), stride=(1, 1))\n",
            "      (1): ReLU()\n",
            "      (2): Dropout(p=0.3, inplace=False)\n",
            "    )\n",
            "  )\n",
            "  (generator): Linear(in_features=768, out_features=2, bias=True)\n",
            "  (activation): LogSoftmax(dim=-1)\n",
            ")\n",
            "Epoch 1 - |param|=1.82e+03 |g_param|=3.10e+00 loss=2.1670e-01 accuracy=0.9264\n",
            "Validation - loss=2.0006e-01 accuracy=0.9194 best_loss=inf\n",
            "Epoch 2 - |param|=1.83e+03 |g_param|=3.08e+00 loss=1.9301e-01 accuracy=0.9349\n",
            "Validation - loss=1.8618e-01 accuracy=0.9324 best_loss=2.0006e-01\n"
          ]
        }
      ]
    },
    {
      "cell_type": "markdown",
      "source": [
        "- "
      ],
      "metadata": {
        "id": "hOIuJPQP1M0A"
      }
    },
    {
      "cell_type": "markdown",
      "source": [
        "## 4. 인공지능이 잘 학습 되었으니까! 이제는 테스트 해볼까요?\n"
      ],
      "metadata": {
        "id": "z9MkvSd92usU"
      }
    },
    {
      "cell_type": "markdown",
      "source": [
        "### 첫번째 방법!\n",
        "- 테스트 문장을 랜덤으로 10개를 불러와서, 긍정인지! 부정인지! 판단해 볼 수 있어요!"
      ],
      "metadata": {
        "id": "fi-qhW0A3TBf"
      }
    },
    {
      "cell_type": "code",
      "source": [
        "!cut -f2 ./data/review.sorted.uniq.refined.tok.shuf.test.tsv | shuf | head -n 10 | python ./classify.py --model_fn ./models/model.pth --gpu_id 0 "
      ],
      "metadata": {
        "colab": {
          "base_uri": "https://localhost:8080/"
        },
        "id": "tuHdI-bPz_Tb",
        "outputId": "e7484977-e2b4-46bd-c913-33c2630abb71"
      },
      "execution_count": 17,
      "outputs": [
        {
          "output_type": "stream",
          "name": "stdout",
          "text": [
            "positive\t잘 받 았 습니다 . 아직 써 보 진 않 았 지만 좋 아 보이 네요 . 크 기 도 마음 에 들 고 따뜻 하 게 목욕 할 수 있 을 것 같 네요 . 많이 파 세요 ^^\n",
            "positive\tLED 방등 은 밝 고 좋 네요 갓등 은 가격 대비 해서 그 닥 이 네요 암튼 많이 파 세요\n",
            "negative\t배송 이 너무 늦 내요\n",
            "positive\t좋 네 용 ㅇㅇㅇ\n",
            "negative\t그저 그렇 네요\n",
            "positive\t배송 도 빠르 고 냄새 도 좋 아요 빳빳 한 머리 가 좀 좋 아 진 것 도 같 아요\n",
            "negative\t구멍 이 잘나 요 일회용 ㅜㅜ\n",
            "positive\t조 ㅗ아용\n",
            "negative\t갤럭시 s 9 0 . 21 mm 강화 유리 구매 했 습니다 네 고 퓨어 강화 유리 유명 하 고 좋 다는 리뷰 가 많 아서 비싼 가격 에 도 불구 하 고 한 번 살 때 좋 은 거 사자 는 마음 으로 구매 했 습니다 ! 붙이 는 거 는 카메라 랑 스피커 구멍 에 맞춰서 부착 하 니깐 잘 됐 고요 터치 감 부드럽 습니다 ! 비싼 값 을 하 네 ! 라고 생각 했 지만 액정 가운데 에 무지개 가 생겼 어요 ㅜㅠ 다른 후기 들 찾아보 니깐 무지개 생겼 다는 사람 들 꽤 많 은데 며칠 만 에 없 어 졌 다는 사람 도 있 고 해서 두 고 볼려고 합니다 전 3 일 이 지나 도 안 없 어 지 고 있 지만 요 . .. ㅜㅠ그뒤 후기 입니다 . .. 무지개 계속 안 없 어 지 고요 쓰 다 보 니 테두리 에 만 접착 부분 이 있 어서 먼지 가 엄청 붙 고 카메라 사이 에 먼지 가 너무 붙 어 안 보여서 결국 뗐 습니다 ㅜ 돈 이 아까워 요 ㅜㅠ\n",
            "negative\t몇 번 세탁기 돌리 니 보풀 이 마 니 나 네요 ㅜㅜ한철 잠깐 신기 는 괜찮 아요 . . 사이즈 는 정 사이즈 사세요 . . 어차피 오래 신겨 요 . . 전 오래 신기 려 한 사이즈 크 게 구매 한 것 도 있 는데 이 정도 면 못 신겨 요 . .\n"
          ]
        }
      ]
    },
    {
      "cell_type": "markdown",
      "source": [
        "### 두번째 방법!\n",
        "- 임의로 내가 문장을 입력 해볼게요! 그러면 긍정인지 부정인지 알려줍니다!"
      ],
      "metadata": {
        "id": "5QvFvgU43ocf"
      }
    },
    {
      "cell_type": "code",
      "source": [
        "!echo \"아무말이나 적어주세요!\" | mecab -O wakati | python ./classify.py --model_fn ./models/model.pth --gpu_id 0 |"
      ],
      "metadata": {
        "colab": {
          "base_uri": "https://localhost:8080/"
        },
        "id": "voWp-Xuj30CU",
        "outputId": "c94e6078-0141-434d-ae2e-4abfc557c741"
      },
      "execution_count": 24,
      "outputs": [
        {
          "output_type": "stream",
          "name": "stdout",
          "text": [
            "positive\t아무 말 이나 적 어 주 세요 !\n"
          ]
        }
      ]
    },
    {
      "cell_type": "markdown",
      "source": [
        "# 아무말이나 입력해주세요! 그러면 인공지능이~~ 긍정인지 부정인지 알려줍니다!"
      ],
      "metadata": {
        "id": "6ERqOd274j6K"
      }
    },
    {
      "cell_type": "code",
      "source": [
        "!echo \"아무말이나 입력해주세요!\" | mecab -O wakati | python ./classify.py --model_fn ./models/model.pth --gpu_id 0 | python ./detokenizer.py"
      ],
      "metadata": {
        "colab": {
          "base_uri": "https://localhost:8080/"
        },
        "id": "saMGleJS41Ex",
        "outputId": "5a080240-ee75-47e9-c188-8c098ce054c0"
      },
      "execution_count": 39,
      "outputs": [
        {
          "output_type": "stream",
          "name": "stdout",
          "text": [
            "positive\t은비님정말감사합니다!\n"
          ]
        }
      ]
    },
    {
      "cell_type": "markdown",
      "source": [
        "# 만약! 정확도를 더 올리고 싶다면!🔥 이 코드를 돌려주시구! 위에 코드를 다시 돌려주세요~\n",
        "- 🔥🔥🔥🔥🔥🔥🔥🔥🔥🔥🔥🔥🔥🔥🔥🔥🔥🔥🔥🔥🔥🔥🔥🔥🔥🔥🔥🔥🔥🔥🔥🔥🔥🔥🔥🔥🔥🔥\n",
        "\n",
        "- 🔥기존보다 어어어엄청 더 오래 돌아갑니다!\n",
        "\n",
        "- 🔥🔥🔥🔥🔥🔥🔥🔥🔥🔥🔥🔥🔥🔥🔥🔥🔥🔥🔥🔥🔥🔥🔥🔥🔥🔥🔥🔥🔥🔥🔥🔥🔥🔥🔥🔥🔥🔥"
      ],
      "metadata": {
        "id": "sJ2Iv1Gx_ADa"
      }
    },
    {
      "cell_type": "code",
      "source": [
        "!python train.py --model_fn ./models/model.pth --train_fn ./data/review.sorted.uniq.refined.tok.shuf.train.tsv --gpu_id 0 --batch_size 32 --n_epochs 10 --word_vec_size 256 --dropout .3 --rnn --hidden_size 512 --n_layers 4 --cnn --window_sizes 3 4 5 6 7 8 --n_filters 128 128 128 128 128 128"
      ],
      "metadata": {
        "id": "fuRJuDI__JiZ"
      },
      "execution_count": null,
      "outputs": []
    }
  ]
}